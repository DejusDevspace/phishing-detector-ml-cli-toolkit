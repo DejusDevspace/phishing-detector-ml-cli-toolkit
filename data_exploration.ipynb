{
 "cells": [
  {
   "cell_type": "markdown",
   "metadata": {},
   "source": [
    "# Data Exploration Notebook"
   ]
  },
  {
   "cell_type": "code",
   "execution_count": 1,
   "metadata": {},
   "outputs": [],
   "source": [
    "import pandas as pd\n",
    "pd.set_option(\"display.max_columns\", None)\n",
    "import numpy as np"
   ]
  },
  {
   "cell_type": "code",
   "execution_count": 3,
   "metadata": {},
   "outputs": [],
   "source": [
    "# Loading the dataset\n",
    "df = pd.read_csv(\"datasets/dataset.csv\")"
   ]
  },
  {
   "cell_type": "code",
   "execution_count": 4,
   "metadata": {},
   "outputs": [
    {
     "data": {
      "text/html": [
       "<div>\n",
       "<style scoped>\n",
       "    .dataframe tbody tr th:only-of-type {\n",
       "        vertical-align: middle;\n",
       "    }\n",
       "\n",
       "    .dataframe tbody tr th {\n",
       "        vertical-align: top;\n",
       "    }\n",
       "\n",
       "    .dataframe thead th {\n",
       "        text-align: right;\n",
       "    }\n",
       "</style>\n",
       "<table border=\"1\" class=\"dataframe\">\n",
       "  <thead>\n",
       "    <tr style=\"text-align: right;\">\n",
       "      <th></th>\n",
       "      <th>Type</th>\n",
       "      <th>url_length</th>\n",
       "      <th>number_of_dots_in_url</th>\n",
       "      <th>having_repeated_digits_in_url</th>\n",
       "      <th>number_of_digits_in_url</th>\n",
       "      <th>number_of_special_char_in_url</th>\n",
       "      <th>number_of_hyphens_in_url</th>\n",
       "      <th>number_of_underline_in_url</th>\n",
       "      <th>number_of_slash_in_url</th>\n",
       "      <th>number_of_questionmark_in_url</th>\n",
       "      <th>number_of_equal_in_url</th>\n",
       "      <th>number_of_at_in_url</th>\n",
       "      <th>number_of_dollar_in_url</th>\n",
       "      <th>number_of_exclamation_in_url</th>\n",
       "      <th>number_of_hashtag_in_url</th>\n",
       "      <th>number_of_percent_in_url</th>\n",
       "      <th>domain_length</th>\n",
       "      <th>number_of_dots_in_domain</th>\n",
       "      <th>number_of_hyphens_in_domain</th>\n",
       "      <th>having_special_characters_in_domain</th>\n",
       "      <th>number_of_special_characters_in_domain</th>\n",
       "      <th>having_digits_in_domain</th>\n",
       "      <th>number_of_digits_in_domain</th>\n",
       "      <th>having_repeated_digits_in_domain</th>\n",
       "      <th>number_of_subdomains</th>\n",
       "      <th>having_dot_in_subdomain</th>\n",
       "      <th>having_hyphen_in_subdomain</th>\n",
       "      <th>average_subdomain_length</th>\n",
       "      <th>average_number_of_dots_in_subdomain</th>\n",
       "      <th>average_number_of_hyphens_in_subdomain</th>\n",
       "      <th>having_special_characters_in_subdomain</th>\n",
       "      <th>number_of_special_characters_in_subdomain</th>\n",
       "      <th>having_digits_in_subdomain</th>\n",
       "      <th>number_of_digits_in_subdomain</th>\n",
       "      <th>having_repeated_digits_in_subdomain</th>\n",
       "      <th>having_path</th>\n",
       "      <th>path_length</th>\n",
       "      <th>having_query</th>\n",
       "      <th>having_fragment</th>\n",
       "      <th>having_anchor</th>\n",
       "      <th>entropy_of_url</th>\n",
       "      <th>entropy_of_domain</th>\n",
       "    </tr>\n",
       "  </thead>\n",
       "  <tbody>\n",
       "    <tr>\n",
       "      <th>0</th>\n",
       "      <td>0</td>\n",
       "      <td>37</td>\n",
       "      <td>2</td>\n",
       "      <td>0</td>\n",
       "      <td>0</td>\n",
       "      <td>8</td>\n",
       "      <td>0</td>\n",
       "      <td>0</td>\n",
       "      <td>5</td>\n",
       "      <td>0</td>\n",
       "      <td>0</td>\n",
       "      <td>0</td>\n",
       "      <td>0</td>\n",
       "      <td>0</td>\n",
       "      <td>0</td>\n",
       "      <td>0</td>\n",
       "      <td>12</td>\n",
       "      <td>2</td>\n",
       "      <td>0</td>\n",
       "      <td>0</td>\n",
       "      <td>0</td>\n",
       "      <td>0</td>\n",
       "      <td>0</td>\n",
       "      <td>0</td>\n",
       "      <td>2</td>\n",
       "      <td>0</td>\n",
       "      <td>0</td>\n",
       "      <td>3.0</td>\n",
       "      <td>0</td>\n",
       "      <td>0</td>\n",
       "      <td>1</td>\n",
       "      <td>3</td>\n",
       "      <td>0</td>\n",
       "      <td>0</td>\n",
       "      <td>1</td>\n",
       "      <td>0</td>\n",
       "      <td>3</td>\n",
       "      <td>0</td>\n",
       "      <td>0</td>\n",
       "      <td>0</td>\n",
       "      <td>4.010412</td>\n",
       "      <td>2.751629</td>\n",
       "    </tr>\n",
       "    <tr>\n",
       "      <th>1</th>\n",
       "      <td>1</td>\n",
       "      <td>70</td>\n",
       "      <td>5</td>\n",
       "      <td>0</td>\n",
       "      <td>0</td>\n",
       "      <td>12</td>\n",
       "      <td>0</td>\n",
       "      <td>0</td>\n",
       "      <td>6</td>\n",
       "      <td>0</td>\n",
       "      <td>0</td>\n",
       "      <td>0</td>\n",
       "      <td>0</td>\n",
       "      <td>0</td>\n",
       "      <td>0</td>\n",
       "      <td>0</td>\n",
       "      <td>26</td>\n",
       "      <td>5</td>\n",
       "      <td>0</td>\n",
       "      <td>0</td>\n",
       "      <td>0</td>\n",
       "      <td>0</td>\n",
       "      <td>0</td>\n",
       "      <td>0</td>\n",
       "      <td>2</td>\n",
       "      <td>0</td>\n",
       "      <td>0</td>\n",
       "      <td>3.0</td>\n",
       "      <td>0</td>\n",
       "      <td>0</td>\n",
       "      <td>1</td>\n",
       "      <td>3</td>\n",
       "      <td>0</td>\n",
       "      <td>0</td>\n",
       "      <td>1</td>\n",
       "      <td>0</td>\n",
       "      <td>4</td>\n",
       "      <td>0</td>\n",
       "      <td>0</td>\n",
       "      <td>0</td>\n",
       "      <td>4.089470</td>\n",
       "      <td>3.532573</td>\n",
       "    </tr>\n",
       "    <tr>\n",
       "      <th>2</th>\n",
       "      <td>0</td>\n",
       "      <td>42</td>\n",
       "      <td>2</td>\n",
       "      <td>0</td>\n",
       "      <td>6</td>\n",
       "      <td>8</td>\n",
       "      <td>0</td>\n",
       "      <td>0</td>\n",
       "      <td>3</td>\n",
       "      <td>1</td>\n",
       "      <td>1</td>\n",
       "      <td>0</td>\n",
       "      <td>0</td>\n",
       "      <td>0</td>\n",
       "      <td>0</td>\n",
       "      <td>0</td>\n",
       "      <td>21</td>\n",
       "      <td>2</td>\n",
       "      <td>0</td>\n",
       "      <td>0</td>\n",
       "      <td>0</td>\n",
       "      <td>1</td>\n",
       "      <td>6</td>\n",
       "      <td>0</td>\n",
       "      <td>2</td>\n",
       "      <td>0</td>\n",
       "      <td>0</td>\n",
       "      <td>7.0</td>\n",
       "      <td>0</td>\n",
       "      <td>0</td>\n",
       "      <td>1</td>\n",
       "      <td>3</td>\n",
       "      <td>0</td>\n",
       "      <td>0</td>\n",
       "      <td>1</td>\n",
       "      <td>0</td>\n",
       "      <td>1</td>\n",
       "      <td>1</td>\n",
       "      <td>0</td>\n",
       "      <td>0</td>\n",
       "      <td>4.386016</td>\n",
       "      <td>3.344698</td>\n",
       "    </tr>\n",
       "    <tr>\n",
       "      <th>3</th>\n",
       "      <td>0</td>\n",
       "      <td>46</td>\n",
       "      <td>2</td>\n",
       "      <td>0</td>\n",
       "      <td>0</td>\n",
       "      <td>7</td>\n",
       "      <td>0</td>\n",
       "      <td>0</td>\n",
       "      <td>4</td>\n",
       "      <td>0</td>\n",
       "      <td>0</td>\n",
       "      <td>0</td>\n",
       "      <td>0</td>\n",
       "      <td>0</td>\n",
       "      <td>0</td>\n",
       "      <td>0</td>\n",
       "      <td>15</td>\n",
       "      <td>2</td>\n",
       "      <td>0</td>\n",
       "      <td>0</td>\n",
       "      <td>0</td>\n",
       "      <td>0</td>\n",
       "      <td>0</td>\n",
       "      <td>0</td>\n",
       "      <td>2</td>\n",
       "      <td>0</td>\n",
       "      <td>0</td>\n",
       "      <td>3.0</td>\n",
       "      <td>0</td>\n",
       "      <td>0</td>\n",
       "      <td>1</td>\n",
       "      <td>3</td>\n",
       "      <td>0</td>\n",
       "      <td>0</td>\n",
       "      <td>1</td>\n",
       "      <td>0</td>\n",
       "      <td>2</td>\n",
       "      <td>0</td>\n",
       "      <td>0</td>\n",
       "      <td>0</td>\n",
       "      <td>4.221947</td>\n",
       "      <td>3.189898</td>\n",
       "    </tr>\n",
       "    <tr>\n",
       "      <th>4</th>\n",
       "      <td>0</td>\n",
       "      <td>51</td>\n",
       "      <td>3</td>\n",
       "      <td>0</td>\n",
       "      <td>0</td>\n",
       "      <td>9</td>\n",
       "      <td>0</td>\n",
       "      <td>0</td>\n",
       "      <td>5</td>\n",
       "      <td>0</td>\n",
       "      <td>0</td>\n",
       "      <td>0</td>\n",
       "      <td>0</td>\n",
       "      <td>0</td>\n",
       "      <td>0</td>\n",
       "      <td>0</td>\n",
       "      <td>16</td>\n",
       "      <td>3</td>\n",
       "      <td>0</td>\n",
       "      <td>0</td>\n",
       "      <td>0</td>\n",
       "      <td>0</td>\n",
       "      <td>0</td>\n",
       "      <td>0</td>\n",
       "      <td>2</td>\n",
       "      <td>0</td>\n",
       "      <td>0</td>\n",
       "      <td>3.0</td>\n",
       "      <td>0</td>\n",
       "      <td>0</td>\n",
       "      <td>1</td>\n",
       "      <td>3</td>\n",
       "      <td>0</td>\n",
       "      <td>0</td>\n",
       "      <td>1</td>\n",
       "      <td>0</td>\n",
       "      <td>3</td>\n",
       "      <td>0</td>\n",
       "      <td>0</td>\n",
       "      <td>0</td>\n",
       "      <td>4.103538</td>\n",
       "      <td>2.952820</td>\n",
       "    </tr>\n",
       "  </tbody>\n",
       "</table>\n",
       "</div>"
      ],
      "text/plain": [
       "   Type  url_length  number_of_dots_in_url  having_repeated_digits_in_url  \\\n",
       "0     0          37                      2                              0   \n",
       "1     1          70                      5                              0   \n",
       "2     0          42                      2                              0   \n",
       "3     0          46                      2                              0   \n",
       "4     0          51                      3                              0   \n",
       "\n",
       "   number_of_digits_in_url  number_of_special_char_in_url  \\\n",
       "0                        0                              8   \n",
       "1                        0                             12   \n",
       "2                        6                              8   \n",
       "3                        0                              7   \n",
       "4                        0                              9   \n",
       "\n",
       "   number_of_hyphens_in_url  number_of_underline_in_url  \\\n",
       "0                         0                           0   \n",
       "1                         0                           0   \n",
       "2                         0                           0   \n",
       "3                         0                           0   \n",
       "4                         0                           0   \n",
       "\n",
       "   number_of_slash_in_url  number_of_questionmark_in_url  \\\n",
       "0                       5                              0   \n",
       "1                       6                              0   \n",
       "2                       3                              1   \n",
       "3                       4                              0   \n",
       "4                       5                              0   \n",
       "\n",
       "   number_of_equal_in_url  number_of_at_in_url  number_of_dollar_in_url  \\\n",
       "0                       0                    0                        0   \n",
       "1                       0                    0                        0   \n",
       "2                       1                    0                        0   \n",
       "3                       0                    0                        0   \n",
       "4                       0                    0                        0   \n",
       "\n",
       "   number_of_exclamation_in_url  number_of_hashtag_in_url  \\\n",
       "0                             0                         0   \n",
       "1                             0                         0   \n",
       "2                             0                         0   \n",
       "3                             0                         0   \n",
       "4                             0                         0   \n",
       "\n",
       "   number_of_percent_in_url  domain_length  number_of_dots_in_domain  \\\n",
       "0                         0             12                         2   \n",
       "1                         0             26                         5   \n",
       "2                         0             21                         2   \n",
       "3                         0             15                         2   \n",
       "4                         0             16                         3   \n",
       "\n",
       "   number_of_hyphens_in_domain  having_special_characters_in_domain  \\\n",
       "0                            0                                    0   \n",
       "1                            0                                    0   \n",
       "2                            0                                    0   \n",
       "3                            0                                    0   \n",
       "4                            0                                    0   \n",
       "\n",
       "   number_of_special_characters_in_domain  having_digits_in_domain  \\\n",
       "0                                       0                        0   \n",
       "1                                       0                        0   \n",
       "2                                       0                        1   \n",
       "3                                       0                        0   \n",
       "4                                       0                        0   \n",
       "\n",
       "   number_of_digits_in_domain  having_repeated_digits_in_domain  \\\n",
       "0                           0                                 0   \n",
       "1                           0                                 0   \n",
       "2                           6                                 0   \n",
       "3                           0                                 0   \n",
       "4                           0                                 0   \n",
       "\n",
       "   number_of_subdomains  having_dot_in_subdomain  having_hyphen_in_subdomain  \\\n",
       "0                     2                        0                           0   \n",
       "1                     2                        0                           0   \n",
       "2                     2                        0                           0   \n",
       "3                     2                        0                           0   \n",
       "4                     2                        0                           0   \n",
       "\n",
       "   average_subdomain_length  average_number_of_dots_in_subdomain  \\\n",
       "0                       3.0                                    0   \n",
       "1                       3.0                                    0   \n",
       "2                       7.0                                    0   \n",
       "3                       3.0                                    0   \n",
       "4                       3.0                                    0   \n",
       "\n",
       "   average_number_of_hyphens_in_subdomain  \\\n",
       "0                                       0   \n",
       "1                                       0   \n",
       "2                                       0   \n",
       "3                                       0   \n",
       "4                                       0   \n",
       "\n",
       "   having_special_characters_in_subdomain  \\\n",
       "0                                       1   \n",
       "1                                       1   \n",
       "2                                       1   \n",
       "3                                       1   \n",
       "4                                       1   \n",
       "\n",
       "   number_of_special_characters_in_subdomain  having_digits_in_subdomain  \\\n",
       "0                                          3                           0   \n",
       "1                                          3                           0   \n",
       "2                                          3                           0   \n",
       "3                                          3                           0   \n",
       "4                                          3                           0   \n",
       "\n",
       "   number_of_digits_in_subdomain  having_repeated_digits_in_subdomain  \\\n",
       "0                              0                                    1   \n",
       "1                              0                                    1   \n",
       "2                              0                                    1   \n",
       "3                              0                                    1   \n",
       "4                              0                                    1   \n",
       "\n",
       "   having_path  path_length  having_query  having_fragment  having_anchor  \\\n",
       "0            0            3             0                0              0   \n",
       "1            0            4             0                0              0   \n",
       "2            0            1             1                0              0   \n",
       "3            0            2             0                0              0   \n",
       "4            0            3             0                0              0   \n",
       "\n",
       "   entropy_of_url  entropy_of_domain  \n",
       "0        4.010412           2.751629  \n",
       "1        4.089470           3.532573  \n",
       "2        4.386016           3.344698  \n",
       "3        4.221947           3.189898  \n",
       "4        4.103538           2.952820  "
      ]
     },
     "execution_count": 4,
     "metadata": {},
     "output_type": "execute_result"
    }
   ],
   "source": [
    "# Visualizing the first few (5) rows of the data\n",
    "df.head()"
   ]
  },
  {
   "cell_type": "code",
   "execution_count": 5,
   "metadata": {},
   "outputs": [
    {
     "data": {
      "text/plain": [
       "(247950, 42)"
      ]
     },
     "execution_count": 5,
     "metadata": {},
     "output_type": "execute_result"
    }
   ],
   "source": [
    "# Checking the shape of the datset\n",
    "df.shape"
   ]
  },
  {
   "cell_type": "code",
   "execution_count": 6,
   "metadata": {},
   "outputs": [
    {
     "name": "stdout",
     "output_type": "stream",
     "text": [
      "Number of null values: 0\n",
      "Number of duplicate values: 118172\n",
      "Number of infinty values: 0\n"
     ]
    }
   ],
   "source": [
    "# Checking if there are null, infinity or duplicate values in the datset\n",
    "print(\"Number of null values:\", df.isna().values.sum())\n",
    "print(\"Number of duplicate values:\", df.duplicated().sum())\n",
    "print(\"Number of infinty values:\", df.infer_objects().isin([np.inf, -np.inf]).values.sum())"
   ]
  },
  {
   "cell_type": "code",
   "execution_count": 7,
   "metadata": {},
   "outputs": [],
   "source": [
    "# Dropping the duplicated values from the dataset\n",
    "df.drop_duplicates(inplace=True)"
   ]
  },
  {
   "cell_type": "code",
   "execution_count": 8,
   "metadata": {},
   "outputs": [
    {
     "name": "stdout",
     "output_type": "stream",
     "text": [
      "False\n",
      "New data shape: (129778, 42)\n"
     ]
    }
   ],
   "source": [
    "# Checking if duplicated were dropped successfully\n",
    "print(df.duplicated().values.any())\n",
    "print(\"New data shape:\", df.shape)"
   ]
  },
  {
   "cell_type": "code",
   "execution_count": 17,
   "metadata": {},
   "outputs": [
    {
     "name": "stdout",
     "output_type": "stream",
     "text": [
      "<class 'pandas.core.frame.DataFrame'>\n",
      "Index: 129778 entries, 0 to 247939\n",
      "Data columns (total 42 columns):\n",
      " #   Column                                     Non-Null Count   Dtype  \n",
      "---  ------                                     --------------   -----  \n",
      " 0   Type                                       129778 non-null  int64  \n",
      " 1   url_length                                 129778 non-null  int64  \n",
      " 2   number_of_dots_in_url                      129778 non-null  int64  \n",
      " 3   having_repeated_digits_in_url              129778 non-null  int64  \n",
      " 4   number_of_digits_in_url                    129778 non-null  int64  \n",
      " 5   number_of_special_char_in_url              129778 non-null  int64  \n",
      " 6   number_of_hyphens_in_url                   129778 non-null  int64  \n",
      " 7   number_of_underline_in_url                 129778 non-null  int64  \n",
      " 8   number_of_slash_in_url                     129778 non-null  int64  \n",
      " 9   number_of_questionmark_in_url              129778 non-null  int64  \n",
      " 10  number_of_equal_in_url                     129778 non-null  int64  \n",
      " 11  number_of_at_in_url                        129778 non-null  int64  \n",
      " 12  number_of_dollar_in_url                    129778 non-null  int64  \n",
      " 13  number_of_exclamation_in_url               129778 non-null  int64  \n",
      " 14  number_of_hashtag_in_url                   129778 non-null  int64  \n",
      " 15  number_of_percent_in_url                   129778 non-null  int64  \n",
      " 16  domain_length                              129778 non-null  int64  \n",
      " 17  number_of_dots_in_domain                   129778 non-null  int64  \n",
      " 18  number_of_hyphens_in_domain                129778 non-null  int64  \n",
      " 19  having_special_characters_in_domain        129778 non-null  int64  \n",
      " 20  number_of_special_characters_in_domain     129778 non-null  int64  \n",
      " 21  having_digits_in_domain                    129778 non-null  int64  \n",
      " 22  number_of_digits_in_domain                 129778 non-null  int64  \n",
      " 23  having_repeated_digits_in_domain           129778 non-null  int64  \n",
      " 24  number_of_subdomains                       129778 non-null  int64  \n",
      " 25  having_dot_in_subdomain                    129778 non-null  int64  \n",
      " 26  having_hyphen_in_subdomain                 129778 non-null  int64  \n",
      " 27  average_subdomain_length                   129778 non-null  float64\n",
      " 28  average_number_of_dots_in_subdomain        129778 non-null  int64  \n",
      " 29  average_number_of_hyphens_in_subdomain     129778 non-null  int64  \n",
      " 30  having_special_characters_in_subdomain     129778 non-null  int64  \n",
      " 31  number_of_special_characters_in_subdomain  129778 non-null  int64  \n",
      " 32  having_digits_in_subdomain                 129778 non-null  int64  \n",
      " 33  number_of_digits_in_subdomain              129778 non-null  int64  \n",
      " 34  having_repeated_digits_in_subdomain        129778 non-null  int64  \n",
      " 35  having_path                                129778 non-null  int64  \n",
      " 36  path_length                                129778 non-null  int64  \n",
      " 37  having_query                               129778 non-null  int64  \n",
      " 38  having_fragment                            129778 non-null  int64  \n",
      " 39  having_anchor                              129778 non-null  int64  \n",
      " 40  entropy_of_url                             129778 non-null  float64\n",
      " 41  entropy_of_domain                          129778 non-null  float64\n",
      "dtypes: float64(3), int64(39)\n",
      "memory usage: 42.6 MB\n"
     ]
    }
   ],
   "source": [
    "df.info()"
   ]
  },
  {
   "cell_type": "markdown",
   "metadata": {},
   "source": [
    "# 🔍 Exploratory Data Analysis (EDA)"
   ]
  },
  {
   "cell_type": "code",
   "execution_count": 18,
   "metadata": {},
   "outputs": [],
   "source": [
    "import seaborn as sns\n",
    "import matplotlib.pyplot as plt"
   ]
  },
  {
   "cell_type": "markdown",
   "metadata": {},
   "source": [
    "### Checking the dependent variable distribution"
   ]
  },
  {
   "cell_type": "code",
   "execution_count": 19,
   "metadata": {},
   "outputs": [
    {
     "data": {
      "text/plain": [
       "Type\n",
       "0    66755\n",
       "1    63023\n",
       "Name: count, dtype: int64"
      ]
     },
     "execution_count": 19,
     "metadata": {},
     "output_type": "execute_result"
    }
   ],
   "source": [
    "df[\"Type\"].value_counts()"
   ]
  },
  {
   "cell_type": "code",
   "execution_count": 20,
   "metadata": {},
   "outputs": [
    {
     "data": {
      "image/png": "[encoded data removed]",
      "text/plain": [
       "<Figure size 2000x1000 with 1 Axes>"
      ]
     },
     "metadata": {},
     "output_type": "display_data"
    }
   ],
   "source": [
    "# Visualizing the dependent variable (\"Type\") distribution\n",
    "plt.figure(figsize=(10, 5), dpi=200)\n",
    "sns.countplot(data=df, x=\"Type\", hue=\"Type\")\n",
    "plt.title(\"URL Type Data Distribution\", fontsize=16, fontweight=\"bold\")\n",
    "# plt.savefig(\"./plots/data-distribution.png\")\n",
    "plt.show()"
   ]
  },
  {
   "cell_type": "markdown",
   "metadata": {},
   "source": [
    "### Relationship between Top-level Domain and URL Type"
   ]
  },
  {
   "cell_type": "code",
   "execution_count": 21,
   "metadata": {},
   "outputs": [],
   "source": [
    "# Relationship between tld and URL_Type_obf_Type\n",
    "# plt.figure(figsize=(10, 5), dpi=200)\n",
    "# sns.countplot(data=df, x=\"tld\", hue=\"URL_Type_obf_Type\")\n",
    "# plt.title(\"TLD vs URL Type\", fontsize=16, fontweight=\"bold\")\n",
    "# plt.xticks(rotation=90)\n",
    "# plt.ylabel(\"Number of URLs\")\n",
    "# plt.savefig(\"./plots/tld-vs-url-type.png\")\n",
    "# plt.show()"
   ]
  },
  {
   "cell_type": "markdown",
   "metadata": {},
   "source": [
    "From the relationship between tld (top-level domain) and url type, most benign urls have 1 (one) tld."
   ]
  },
  {
   "cell_type": "markdown",
   "metadata": {},
   "source": [
    "### Relationship between SymbolCountDomain (number of symbols in the domain name) and URL Type"
   ]
  },
  {
   "cell_type": "code",
   "execution_count": 22,
   "metadata": {},
   "outputs": [],
   "source": [
    "# Relationship between URL_Type_obf_Type and SymbolCount_Domain\n",
    "# plt.figure(figsize=(10, 5), dpi=200)\n",
    "# sns.countplot(data=df, x=\"SymbolCount_Domain\", hue=\"URL_Type_obf_Type\")\n",
    "# plt.title(\"Symbol Count in Domain vs URL Type\", fontsize=16, fontweight=\"bold\")\n",
    "# plt.xticks(rotation=90)\n",
    "# plt.ylabel(\"Number of URLs\")\n",
    "# plt.savefig(\"./plots/symbol-count-domain-vs-url-type.png\")\n",
    "# plt.show()"
   ]
  },
  {
   "cell_type": "markdown",
   "metadata": {},
   "source": [
    "Most benign urls have one symbol in the domain name"
   ]
  },
  {
   "cell_type": "markdown",
   "metadata": {},
   "source": [
    "### Relationship between SymbolCount_URL and URL Type"
   ]
  },
  {
   "cell_type": "code",
   "execution_count": 23,
   "metadata": {},
   "outputs": [],
   "source": [
    "# Relationship between URL_Type_obf_Type and SymbolCount_URL\n",
    "# plt.figure(figsize=(10, 5), dpi=200)\n",
    "# sns.countplot(data=df, x=\"SymbolCount_URL\", hue=\"URL_Type_obf_Type\")\n",
    "# plt.title(\"Symbol Count in URLmain vs URL Type\", fontsize=16, fontweight=\"bold\")\n",
    "# plt.xticks(rotation=90)\n",
    "# plt.ylabel(\"Number of URLs\")\n",
    "# plt.savefig(\"./plots/symbol-count-url-vs-url-type.png\")\n",
    "# plt.show()"
   ]
  },
  {
   "cell_type": "markdown",
   "metadata": {},
   "source": [
    "### Relationship between domainlength and URL Type"
   ]
  },
  {
   "cell_type": "code",
   "execution_count": 24,
   "metadata": {},
   "outputs": [],
   "source": [
    "# Relationship between domainlength and URL Type\n",
    "# plt.figure(figsize=(10, 5), dpi=200)\n",
    "# sns.countplot(data=df, x=\"domainlength\", hue=\"URL_Type_obf_Type\")\n",
    "# plt.title(\"Domain Length vs URL Type\", fontsize=16, fontweight=\"bold\")\n",
    "# plt.xticks(rotation=90)\n",
    "# plt.ylabel(\"Number of URLs\")\n",
    "# plt.savefig(\"./plots/domain-length-vs-url-type.png\")\n",
    "# plt.show()"
   ]
  },
  {
   "cell_type": "markdown",
   "metadata": {},
   "source": [
    "URLs with lower domain length are mostly benign"
   ]
  },
  {
   "cell_type": "markdown",
   "metadata": {},
   "source": [
    "### Saving the cleaned version of the dataset"
   ]
  },
  {
   "cell_type": "code",
   "execution_count": 25,
   "metadata": {},
   "outputs": [],
   "source": [
    "# Saving the cleaned dataset\n",
    "df.to_csv(\"datasets/cleaned_data2.csv\")"
   ]
  },
  {
   "cell_type": "code",
   "execution_count": null,
   "metadata": {},
   "outputs": [],
   "source": []
  }
 ],
 "metadata": {
  "kernelspec": {
   "display_name": "devspace",
   "language": "python",
   "name": "python3"
  },
  "language_info": {
   "codemirror_mode": {
    "name": "ipython",
    "version": 3
   },
   "file_extension": ".py",
   "mimetype": "text/x-python",
   "name": "python",
   "nbconvert_exporter": "python",
   "pygments_lexer": "ipython3",
   "version": "3.10.16"
  }
 },
 "nbformat": 4,
 "nbformat_minor": 2
}
